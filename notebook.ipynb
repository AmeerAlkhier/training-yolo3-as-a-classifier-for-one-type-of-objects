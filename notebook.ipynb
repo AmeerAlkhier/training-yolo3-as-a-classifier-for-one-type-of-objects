{
 "cells": [
  {
   "cell_type": "code",
   "execution_count": 20,
   "id": "1df4867b",
   "metadata": {},
   "outputs": [],
   "source": [
    "# jupyter-notebook\n",
    "\n",
    "import cv2 as cv\n",
    "import numpy as np\n",
    "import matplotlib.pyplot as plt"
   ]
  },
  {
   "cell_type": "code",
   "execution_count": 21,
   "id": "72bf1ab8",
   "metadata": {},
   "outputs": [],
   "source": [
    "#haystack_img = cv.imread('16.jpg')\n",
    "#needle_img = cv.imread('window.png')\n",
    "\n",
    "haystack_img = cv.imread('2.jpg',0)\n",
    "needle_img = cv.imread('win.png',0)\n",
    "\n",
    "#haystack_img =cv.cvtColor(haystack_img, cv.COLOR_BGR2GRAY)\n",
    "#needle_img= cv.cvtColor(needle_img, cv.COLOR_BGR2GRAY)\n",
    "#haystack_img.astype(np.float32)\n",
    "#needle_img.astype(np.float32)\n",
    "\n"
   ]
  },
  {
   "cell_type": "code",
   "execution_count": 22,
   "id": "ae488495",
   "metadata": {},
   "outputs": [],
   "source": [
    "#Threshilding the template \n",
    "#needle_img = cv.bilateralFilter(needle_img,9,75,75)\n",
    "#needle_img = cv.GaussianBlur(needle_img,(3,3),0)\n",
    "\n",
    "\n"
   ]
  },
  {
   "cell_type": "code",
   "execution_count": 23,
   "id": "30d5bc52",
   "metadata": {},
   "outputs": [],
   "source": [
    "def ResizeWithAspectRatio(image, width=None, height=None, inter=cv.INTER_AREA):\n",
    "    dim = None\n",
    "    (h, w) = image.shape[:2]\n",
    "\n",
    "    if width is None and height is None:\n",
    "        return image\n",
    "    if width is None:\n",
    "        r = height / float(h)\n",
    "        dim = (int(w * r), height)\n",
    "    else:\n",
    "        r = width / float(w)\n",
    "        dim = (width, int(h * r))\n",
    "\n",
    "    return cv.resize(image, dim, interpolation=inter)"
   ]
  },
  {
   "cell_type": "code",
   "execution_count": 24,
   "id": "3761ac36",
   "metadata": {},
   "outputs": [
    {
     "name": "stdout",
     "output_type": "stream",
     "text": [
      "(745, 3112)\n",
      "0.3428926169872284\n"
     ]
    }
   ],
   "source": [
    "# compare template\n",
    "result = cv.matchTemplate(haystack_img, needle_img, cv.TM_CCOEFF_NORMED)\n",
    "#result =haystack_img\n",
    "min_val, max_val, min_loc, max_loc = cv.minMaxLoc(result)\n",
    "print(max_loc)\n",
    "print(max_val)\n"
   ]
  },
  {
   "cell_type": "code",
   "execution_count": 25,
   "id": "95acff1d",
   "metadata": {},
   "outputs": [
    {
     "data": {
      "text/plain": [
       "array([[21, 19, 17, ..., 81, 81, 84],\n",
       "       [26, 25, 24, ..., 83, 84, 87],\n",
       "       [29, 30, 30, ..., 84, 85, 86],\n",
       "       ...,\n",
       "       [ 6,  4,  4, ..., 69, 67, 71],\n",
       "       [ 4,  5,  6, ..., 71, 69, 71],\n",
       "       [ 2,  5, 11, ..., 70, 67, 65]], dtype=uint8)"
      ]
     },
     "execution_count": 25,
     "metadata": {},
     "output_type": "execute_result"
    }
   ],
   "source": [
    "needle_w=needle_img.shape[1]\n",
    "needle_h=needle_img.shape[0]\n",
    "Top_left=max_loc\n",
    "Bottom_right=(max_loc[0]+needle_w,max_loc[1]+needle_h)\n",
    "cv.rectangle(haystack_img,Top_left,Bottom_right,(0,0,255),2,lineType=cv.LINE_4)"
   ]
  },
  {
   "cell_type": "code",
   "execution_count": 26,
   "id": "7410285b",
   "metadata": {},
   "outputs": [],
   "source": [
    "resize = ResizeWithAspectRatio(haystack_img, width=800) # Resize by width OR\n",
    "# resize = ResizeWithAspectRatio(image, height=1280) # Resize by height \n",
    "\n",
    "cv.imshow('resize', resize)\n",
    "cv.waitKey(0)\n",
    "\n",
    "#cv.imshow('Result', result)\n",
    "#cv.waitKey(0)\n",
    "cv.destroyAllWindows()"
   ]
  },
  {
   "cell_type": "code",
   "execution_count": 17,
   "id": "528d666c",
   "metadata": {},
   "outputs": [],
   "source": [
    "\n",
    "\n",
    "#imgplot = plt.imshow(needle_img )\n",
    "resize = ResizeWithAspectRatio(result, width=800) # Resize by width OR\n",
    "# resize = ResizeWithAspectRatio(image, height=1280) # Resize by height \n",
    "\n",
    "cv.imshow('resize', resize)\n",
    "cv.waitKey(0)\n",
    "\n",
    "#cv.imshow('Result', result)\n",
    "#cv.waitKey(0)\n",
    "cv.destroyAllWindows()"
   ]
  },
  {
   "cell_type": "code",
   "execution_count": null,
   "id": "de905e46",
   "metadata": {},
   "outputs": [],
   "source": []
  }
 ],
 "metadata": {
  "kernelspec": {
   "display_name": "Python 3",
   "language": "python",
   "name": "python3"
  },
  "language_info": {
   "codemirror_mode": {
    "name": "ipython",
    "version": 3
   },
   "file_extension": ".py",
   "mimetype": "text/x-python",
   "name": "python",
   "nbconvert_exporter": "python",
   "pygments_lexer": "ipython3",
   "version": "3.8.5"
  }
 },
 "nbformat": 4,
 "nbformat_minor": 5
}
