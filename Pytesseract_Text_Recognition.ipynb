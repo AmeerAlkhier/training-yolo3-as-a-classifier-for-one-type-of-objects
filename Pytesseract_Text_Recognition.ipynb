{
 "cells": [
  {
   "cell_type": "code",
   "execution_count": 1,
   "id": "0411e703",
   "metadata": {},
   "outputs": [
    {
     "name": "stderr",
     "output_type": "stream",
     "text": [
      "/home/ameer/.local/lib/python3.8/site-packages/skimage/io/manage_plugins.py:23: UserWarning: Your installed pillow version is < 7.1.0. Several security issues (CVE-2020-11538, CVE-2020-10379, CVE-2020-10994, CVE-2020-10177) have been fixed in pillow 7.1.0 or higher. We recommend to upgrade this library.\n",
      "  from .collection import imread_collection_wrapper\n"
     ]
    }
   ],
   "source": [
    "import cv2\n",
    "import pytesseract\n",
    "import numpy as np\n",
    "import matplotlib.pyplot as plt\n",
    "from easyocr import Reader\n",
    "#pytesseract.get_tesseract_version()"
   ]
  },
  {
   "cell_type": "code",
   "execution_count": 3,
   "id": "81840d93",
   "metadata": {},
   "outputs": [
    {
     "data": {
      "text/plain": [
       "['3', '6', '4', '.', '\\x0c']"
      ]
     },
     "execution_count": 3,
     "metadata": {},
     "output_type": "execute_result"
    },
    {
     "data": {
      "image/png": "[encoded data removed]",
      "text/plain": [
       "<Figure size 432x288 with 1 Axes>"
      ]
     },
     "metadata": {
      "needs_background": "light"
     },
     "output_type": "display_data"
    }
   ],
   "source": [
    "# read image\n",
    "im = cv2.imread('cropped.png',0)\n",
    "im = cv2.resize(im, None, fx=2, fy=2, interpolation=cv2.INTER_CUBIC)\n",
    "\n",
    "if (im.shape[1]>im.shape[0]):\n",
    "     im = cv2.rotate(im, cv2.cv2.ROTATE_90_COUNTERCLOCKWISE)   \n",
    "        \n",
    "im = cv2.threshold(im, 100, 255, cv2.THRESH_OTSU | cv2.THRESH_BINARY)[1]\n",
    "# remove vertical threshold \n",
    "\n",
    "#cv2.floodFill(im, None, (0,0), 255)\n",
    "#cv2.floodFill(im, None, (0,0), 0)\n",
    "\n",
    "plt.imshow(im)\n",
    "# configurations\n",
    "config = (' --oem 3 --psm 6 outputbase digits')\n",
    "# pytessercat\n",
    "text = pytesseract.image_to_string(im, config=config)\n",
    "# print text\n",
    "text = text.split('\\n')\n",
    "text"
   ]
  },
  {
   "cell_type": "code",
   "execution_count": 4,
   "id": "73d0d14f",
   "metadata": {},
   "outputs": [
    {
     "name": "stderr",
     "output_type": "stream",
     "text": [
      "CUDA not available - defaulting to CPU. Note: This module is much faster with a GPU.\n"
     ]
    },
    {
     "name": "stdout",
     "output_type": "stream",
     "text": [
      "[INFO] OCR'ing input image...\n"
     ]
    },
    {
     "data": {
      "text/plain": [
       "[([[54, 36], [126, 36], [126, 142], [54, 142]], '3', 0.9999997615814351),\n",
       " ([[56, 174], [130, 174], [130, 300], [56, 300]], '6', 0.999999880790714),\n",
       " ([[52, 296], [126, 296], [126, 404], [52, 404]], '4', 0.9999827147277109)]"
      ]
     },
     "execution_count": 4,
     "metadata": {},
     "output_type": "execute_result"
    }
   ],
   "source": [
    "\n",
    "# OCR the input image using EasyOCR\n",
    "print(\"[INFO] OCR'ing input image...\")\n",
    "reader = Reader(['en'],gpu=True )# flag for using GPU\n",
    "results = reader.readtext(im, allowlist ='0123456789')\n",
    "results"
   ]
  },
  {
   "cell_type": "code",
   "execution_count": null,
   "id": "ed9f84e2",
   "metadata": {},
   "outputs": [],
   "source": []
  }
 ],
 "metadata": {
  "kernelspec": {
   "display_name": "Python 3",
   "language": "python",
   "name": "python3"
  },
  "language_info": {
   "codemirror_mode": {
    "name": "ipython",
    "version": 3
   },
   "file_extension": ".py",
   "mimetype": "text/x-python",
   "name": "python",
   "nbconvert_exporter": "python",
   "pygments_lexer": "ipython3",
   "version": "3.8.5"
  }
 },
 "nbformat": 4,
 "nbformat_minor": 5
}
