{
 "cells": [
  {
   "cell_type": "code",
   "execution_count": 1,
   "id": "0ed56e26",
   "metadata": {},
   "outputs": [],
   "source": [
    "import cv2 as cv\n",
    "import numpy as np\n",
    "import matplotlib as plt"
   ]
  },
  {
   "cell_type": "code",
   "execution_count": 2,
   "id": "430ead26",
   "metadata": {},
   "outputs": [],
   "source": [
    "haystack_img = cv.imread('16.jpg', cv.IMREAD_UNCHANGED)\n",
    "needle_img = cv.imread('window.jpg', cv.IMREAD_UNCHANGED)\n",
    "#result = cv.matchTemplate(haystack_img, needle_img, cv.TM_CCOEFF_NORMED)\n",
    "result =haystack_img\n"
   ]
  },
  {
   "cell_type": "code",
   "execution_count": 3,
   "id": "329ff989",
   "metadata": {},
   "outputs": [],
   "source": [
    "\n",
    "plt.imshow('Result', result)\n",
    "plt.waitKey(0)"
   ]
  },
  {
   "cell_type": "code",
   "execution_count": null,
   "id": "965ab1d7",
   "metadata": {},
   "outputs": [],
   "source": []
  }
 ],
 "metadata": {
  "kernelspec": {
   "display_name": "Python 3",
   "language": "python",
   "name": "python3"
  },
  "language_info": {
   "codemirror_mode": {
    "name": "ipython",
    "version": 3
   },
   "file_extension": ".py",
   "mimetype": "text/x-python",
   "name": "python",
   "nbconvert_exporter": "python",
   "pygments_lexer": "ipython3",
   "version": "3.8.5"
  }
 },
 "nbformat": 4,
 "nbformat_minor": 5
}
