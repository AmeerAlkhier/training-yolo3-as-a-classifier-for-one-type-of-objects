{
 "cells": [
  {
   "cell_type": "code",
   "execution_count": 1,
   "id": "f45ff14f",
   "metadata": {},
   "outputs": [
    {
     "name": "stderr",
     "output_type": "stream",
     "text": [
      "/home/ameer/.local/lib/python3.8/site-packages/skimage/io/manage_plugins.py:23: UserWarning: Your installed pillow version is < 7.1.0. Several security issues (CVE-2020-11538, CVE-2020-10379, CVE-2020-10994, CVE-2020-10177) have been fixed in pillow 7.1.0 or higher. We recommend to upgrade this library.\n",
      "  from .collection import imread_collection_wrapper\n"
     ]
    }
   ],
   "source": [
    "import cv2\n",
    "import numpy as np\n",
    "import glob\n",
    "import random\n",
    "import matplotlib.pyplot as plt\n",
    "from easyocr import Reader\n",
    "import pytesseract"
   ]
  },
  {
   "cell_type": "code",
   "execution_count": 2,
   "id": "baba4d7b",
   "metadata": {},
   "outputs": [],
   "source": [
    "# Load Yolo\n",
    "net = cv2.dnn.readNet(\"yolov3_training_last.weights\", \"yolov3_testing.cfg\")\n",
    "\n",
    "# Name custom object\n",
    "classes = [\"text\"]\n",
    "\n",
    "# Images path for testing\n",
    "images_path = glob.glob('test/*.jpg')\n"
   ]
  },
  {
   "cell_type": "code",
   "execution_count": 3,
   "id": "c7fe09bf",
   "metadata": {},
   "outputs": [],
   "source": [
    "layer_names = net.getLayerNames()\n",
    "output_layers = [layer_names[i[0] - 1] for i in net.getUnconnectedOutLayers()]\n",
    "colors = np.random.uniform(0, 255, size=(len(classes), 3))\n",
    "\n",
    "random.shuffle(images_path)\n",
    "# loop through all the images\n"
   ]
  },
  {
   "cell_type": "code",
   "execution_count": 4,
   "id": "d327393a",
   "metadata": {},
   "outputs": [
    {
     "name": "stdout",
     "output_type": "stream",
     "text": [
      "0\n",
      "0\n",
      "[[1]]\n",
      "0\n",
      "[[0]]\n",
      "0\n",
      "0\n",
      "[[1]]\n",
      "0\n",
      "[[0]]\n",
      "0\n",
      "0\n",
      "0\n",
      "[[2]]\n",
      "0\n",
      "0\n",
      "[[1]]\n"
     ]
    }
   ],
   "source": [
    "for img_path in images_path:\n",
    "    # Loading image and resizing\n",
    "    img = cv2.imread(img_path)\n",
    "    img = cv2.resize(img, None, fx=0.4, fy=0.4)\n",
    "    height, width, channels = img.shape\n",
    "    img1= cv2.imread(img_path,cv2.IMREAD_GRAYSCALE)\n",
    "    # Detecting the text or the box object\n",
    "    blob = cv2.dnn.blobFromImage(img, 0.00392, (416, 416), (0, 0, 0), True, crop=False)\n",
    "\n",
    "    net.setInput(blob)\n",
    "    outs = net.forward(output_layers)\n",
    "\n",
    "    # Showing informations on the screen\n",
    "    class_ids = []\n",
    "    confidences = []\n",
    "    boxes = []\n",
    "    for out in outs:\n",
    "        for detection in out:\n",
    "            scores = detection[5:]\n",
    "            class_id = np.argmax(scores)\n",
    "            confidence = scores[class_id]\n",
    "            if confidence > 0.3:\n",
    "                # Object detected\n",
    "                print(class_id)\n",
    "                center_x = int(detection[0] * width)\n",
    "                center_y = int(detection[1] * height)\n",
    "                w = int(detection[2] * width)\n",
    "                h = int(detection[3] * height)\n",
    "\n",
    "                # Rectangle coordinates\n",
    "                x = int(center_x - w / 2)\n",
    "                y = int(center_y - h / 2)\n",
    "\n",
    "                boxes.append([x, y, w, h])\n",
    "                confidences.append(float(confidence))\n",
    "                class_ids.append(class_id)\n",
    "\n",
    "                \n",
    "                # crop and save \n",
    "            \n",
    "    indexes = cv2.dnn.NMSBoxes(boxes, confidences, 0.5, 0.4)\n",
    "    print(indexes)\n",
    "    font = cv2.FONT_HERSHEY_PLAIN\n",
    "    for i in range(len(boxes)):\n",
    "        if i in indexes:\n",
    "            x, y, w, h = boxes[i]\n",
    "            label = str(classes[class_ids[i]])\n",
    "            color = colors[class_ids[i]]\n",
    "            cv2.rectangle(img, (x, y), (x + w, y + h), (0,0,255), 2)\n",
    "            cv2.putText(img, label, (x, y + 30), font, 3, color, 2)\n",
    "            \n",
    "    imS = cv2.resize(img, (800, 500)) \n",
    "    cv2.imshow(\"Image\", imS)\n",
    "    key = cv2.waitKey(0)\n",
    "\n",
    "cv2.destroyAllWindows()"
   ]
  },
  {
   "cell_type": "code",
   "execution_count": 8,
   "id": "da8b00da",
   "metadata": {},
   "outputs": [
    {
     "data": {
      "text/plain": [
       "['3', '6', '4', '\\x0c']"
      ]
     },
     "execution_count": 8,
     "metadata": {},
     "output_type": "execute_result"
    },
    {
     "data": {
      "image/png": "[encoded data removed]",
      "text/plain": [
       "<Figure size 432x288 with 1 Axes>"
      ]
     },
     "metadata": {
      "needs_background": "light"
     },
     "output_type": "display_data"
    }
   ],
   "source": [
    "# read image\n",
    "file_name='cropped3.png'\n",
    "\n",
    "im1 = cv2.imread(file_name,0)\n",
    "im = cv2.resize(im1, None, fx=1.8, fy=1.8, interpolation=cv2.INTER_CUBIC)\n",
    "\n",
    "if (im.shape[1]>im.shape[0]):\n",
    "     im = cv2.rotate(im, cv2.cv2.ROTATE_90_COUNTERCLOCKWISE)   \n",
    "        \n",
    "im = cv2.threshold(im, 100, 255, cv2.THRESH_OTSU | cv2.THRESH_BINARY)[1]\n",
    "\n",
    "#im = cv2.adaptiveThreshold(im,255,cv2.ADAPTIVE_THRESH_GAUSSIAN_C,\\\n",
    "#            cv2.THRESH_BINARY,11,2)\n",
    "# remove vertical threshold \n",
    "\n",
    "plt.imshow(im)\n",
    "# configurations\n",
    "config = (' --oem 3 --psm 6 outputbase digits')\n",
    "# pytessercat\n",
    "text = pytesseract.image_to_string(im, config=config)\n",
    "# print text\n",
    "text = text.split('\\n')\n",
    "if (text==['\\x0c'] ):\n",
    "    # read image\n",
    "    im = cv2.imread(file_name,0)\n",
    "    im = cv2.resize(im, None, fx=0.5, fy=0.5, interpolation=cv2.INTER_CUBIC)\n",
    "\n",
    "    if (im.shape[1]>im.shape[0]):\n",
    "         im = cv2.rotate(im, cv2.cv2.ROTATE_90_COUNTERCLOCKWISE)   \n",
    "        \n",
    "    im = cv2.threshold(im, 100, 255, cv2.THRESH_OTSU | cv2.THRESH_BINARY)[1]\n",
    "    # remove vertical threshold \n",
    "\n",
    "    plt.imshow(im)\n",
    "    # configurations\n",
    "    config = (' --oem 3 --psm 6 outputbase digits')\n",
    "    # pytessercat\n",
    "    text = pytesseract.image_to_string(im, config=config)\n",
    "    # print text\n",
    "    text = text.split('\\n')\n",
    "  \n",
    "text      \n",
    "        \n",
    "    \n",
    "    \n",
    " "
   ]
  },
  {
   "cell_type": "code",
   "execution_count": 9,
   "id": "2a36ea4a",
   "metadata": {},
   "outputs": [
    {
     "name": "stderr",
     "output_type": "stream",
     "text": [
      "CUDA not available - defaulting to CPU. Note: This module is much faster with a GPU.\n"
     ]
    },
    {
     "name": "stdout",
     "output_type": "stream",
     "text": [
      "[INFO] OCR'ing input image...\n"
     ]
    },
    {
     "data": {
      "text/plain": [
       "[([[22, 22], [48, 22], [48, 58], [22, 58]], '3', 0.9999997615814351)]"
      ]
     },
     "execution_count": 9,
     "metadata": {},
     "output_type": "execute_result"
    }
   ],
   "source": [
    "# OCR the input image using EasyOCR\n",
    "print(\"[INFO] OCR'ing input image...\")\n",
    "reader = Reader(['en'],gpu=True )# flag for using GPU\n",
    "results = reader.readtext(im, allowlist ='0123456789')\n",
    "results"
   ]
  },
  {
   "cell_type": "code",
   "execution_count": null,
   "id": "55dda7d0",
   "metadata": {},
   "outputs": [],
   "source": []
  }
 ],
 "metadata": {
  "kernelspec": {
   "display_name": "Python 3",
   "language": "python",
   "name": "python3"
  },
  "language_info": {
   "codemirror_mode": {
    "name": "ipython",
    "version": 3
   },
   "file_extension": ".py",
   "mimetype": "text/x-python",
   "name": "python",
   "nbconvert_exporter": "python",
   "pygments_lexer": "ipython3",
   "version": "3.8.5"
  }
 },
 "nbformat": 4,
 "nbformat_minor": 5
}
